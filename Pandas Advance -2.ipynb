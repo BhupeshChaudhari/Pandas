{
 "cells": [
  {
   "cell_type": "code",
   "execution_count": 2,
   "id": "c6191c8c",
   "metadata": {},
   "outputs": [],
   "source": [
    "import pandas as pd\n",
    "\n",
    "course_name = ['Data Science', 'Machine Learning', 'Big Data', 'Data Engineer']\n",
    "duration = [2,3,6,4]\n",
    "\n",
    "df = pd.DataFrame(data = {'course_name' : course_name, 'duration' : duration})"
   ]
  },
  {
   "cell_type": "markdown",
   "id": "a6fe2335",
   "metadata": {},
   "source": [
    "Q.1"
   ]
  },
  {
   "cell_type": "code",
   "execution_count": 3,
   "id": "0c59dba6",
   "metadata": {},
   "outputs": [
    {
     "data": {
      "text/html": [
       "<div>\n",
       "<style scoped>\n",
       "    .dataframe tbody tr th:only-of-type {\n",
       "        vertical-align: middle;\n",
       "    }\n",
       "\n",
       "    .dataframe tbody tr th {\n",
       "        vertical-align: top;\n",
       "    }\n",
       "\n",
       "    .dataframe thead th {\n",
       "        text-align: right;\n",
       "    }\n",
       "</style>\n",
       "<table border=\"1\" class=\"dataframe\">\n",
       "  <thead>\n",
       "    <tr style=\"text-align: right;\">\n",
       "      <th></th>\n",
       "      <th>duration</th>\n",
       "    </tr>\n",
       "  </thead>\n",
       "  <tbody>\n",
       "    <tr>\n",
       "      <th>0</th>\n",
       "      <td>2</td>\n",
       "    </tr>\n",
       "    <tr>\n",
       "      <th>1</th>\n",
       "      <td>3</td>\n",
       "    </tr>\n",
       "    <tr>\n",
       "      <th>2</th>\n",
       "      <td>6</td>\n",
       "    </tr>\n",
       "    <tr>\n",
       "      <th>3</th>\n",
       "      <td>4</td>\n",
       "    </tr>\n",
       "  </tbody>\n",
       "</table>\n",
       "</div>"
      ],
      "text/plain": [
       "   duration\n",
       "0         2\n",
       "1         3\n",
       "2         6\n",
       "3         4"
      ]
     },
     "execution_count": 3,
     "metadata": {},
     "output_type": "execute_result"
    }
   ],
   "source": [
    "#Data of second row\n",
    "\n",
    "df[['duration']]\n"
   ]
  },
  {
   "cell_type": "markdown",
   "id": "4a1c8476",
   "metadata": {},
   "source": [
    "Q.2"
   ]
  },
  {
   "cell_type": "markdown",
   "id": "c1cad982",
   "metadata": {},
   "source": [
    "loc : loc function requires the column name present in dataFrame to extract the data\n",
    "\n",
    "iloc : iloc requires the column indices as 0,1,2,.. "
   ]
  },
  {
   "cell_type": "markdown",
   "id": "7be9488d",
   "metadata": {},
   "source": [
    "Q.3"
   ]
  },
  {
   "cell_type": "code",
   "execution_count": 4,
   "id": "deba694f",
   "metadata": {},
   "outputs": [
    {
     "data": {
      "text/html": [
       "<div>\n",
       "<style scoped>\n",
       "    .dataframe tbody tr th:only-of-type {\n",
       "        vertical-align: middle;\n",
       "    }\n",
       "\n",
       "    .dataframe tbody tr th {\n",
       "        vertical-align: top;\n",
       "    }\n",
       "\n",
       "    .dataframe thead th {\n",
       "        text-align: right;\n",
       "    }\n",
       "</style>\n",
       "<table border=\"1\" class=\"dataframe\">\n",
       "  <thead>\n",
       "    <tr style=\"text-align: right;\">\n",
       "      <th></th>\n",
       "      <th>course_name</th>\n",
       "      <th>duration</th>\n",
       "    </tr>\n",
       "  </thead>\n",
       "  <tbody>\n",
       "    <tr>\n",
       "      <th>3</th>\n",
       "      <td>Data Engineer</td>\n",
       "      <td>4</td>\n",
       "    </tr>\n",
       "    <tr>\n",
       "      <th>0</th>\n",
       "      <td>Data Science</td>\n",
       "      <td>2</td>\n",
       "    </tr>\n",
       "    <tr>\n",
       "      <th>1</th>\n",
       "      <td>Machine Learning</td>\n",
       "      <td>3</td>\n",
       "    </tr>\n",
       "    <tr>\n",
       "      <th>2</th>\n",
       "      <td>Big Data</td>\n",
       "      <td>6</td>\n",
       "    </tr>\n",
       "  </tbody>\n",
       "</table>\n",
       "</div>"
      ],
      "text/plain": [
       "        course_name  duration\n",
       "3     Data Engineer         4\n",
       "0      Data Science         2\n",
       "1  Machine Learning         3\n",
       "2          Big Data         6"
      ]
     },
     "execution_count": 4,
     "metadata": {},
     "output_type": "execute_result"
    }
   ],
   "source": [
    "new_df = df.reindex([3,0,1,2])\n",
    "new_df"
   ]
  },
  {
   "cell_type": "code",
   "execution_count": 5,
   "id": "2c7468c9",
   "metadata": {},
   "outputs": [
    {
     "data": {
      "text/plain": [
       "course_name    Big Data\n",
       "duration              6\n",
       "Name: 2, dtype: object"
      ]
     },
     "execution_count": 5,
     "metadata": {},
     "output_type": "execute_result"
    }
   ],
   "source": [
    "new_df.loc[2]"
   ]
  },
  {
   "cell_type": "code",
   "execution_count": 6,
   "id": "f3a04695",
   "metadata": {},
   "outputs": [
    {
     "data": {
      "text/plain": [
       "course_name    Machine Learning\n",
       "duration                      3\n",
       "Name: 1, dtype: object"
      ]
     },
     "execution_count": 6,
     "metadata": {},
     "output_type": "execute_result"
    }
   ],
   "source": [
    "new_df.iloc[2]"
   ]
  },
  {
   "cell_type": "markdown",
   "id": "521952d6",
   "metadata": {},
   "source": [
    "loc : loc[2] gives the output based on reindex which contains index 2\n",
    "    \n",
    "iloc : olic[2] it starts from 0 and gives row present at original index 2"
   ]
  },
  {
   "cell_type": "markdown",
   "id": "f72c7feb",
   "metadata": {},
   "source": [
    "Q.4"
   ]
  },
  {
   "cell_type": "code",
   "execution_count": 7,
   "id": "1849467b",
   "metadata": {},
   "outputs": [
    {
     "data": {
      "text/html": [
       "<div>\n",
       "<style scoped>\n",
       "    .dataframe tbody tr th:only-of-type {\n",
       "        vertical-align: middle;\n",
       "    }\n",
       "\n",
       "    .dataframe tbody tr th {\n",
       "        vertical-align: top;\n",
       "    }\n",
       "\n",
       "    .dataframe thead th {\n",
       "        text-align: right;\n",
       "    }\n",
       "</style>\n",
       "<table border=\"1\" class=\"dataframe\">\n",
       "  <thead>\n",
       "    <tr style=\"text-align: right;\">\n",
       "      <th></th>\n",
       "      <th>column_1</th>\n",
       "      <th>column_2</th>\n",
       "      <th>column_3</th>\n",
       "      <th>column_4</th>\n",
       "      <th>column_5</th>\n",
       "      <th>column_6</th>\n",
       "    </tr>\n",
       "  </thead>\n",
       "  <tbody>\n",
       "    <tr>\n",
       "      <th>1</th>\n",
       "      <td>0.826885</td>\n",
       "      <td>0.948951</td>\n",
       "      <td>0.797121</td>\n",
       "      <td>0.843325</td>\n",
       "      <td>0.239617</td>\n",
       "      <td>0.499503</td>\n",
       "    </tr>\n",
       "    <tr>\n",
       "      <th>2</th>\n",
       "      <td>0.532399</td>\n",
       "      <td>0.427854</td>\n",
       "      <td>0.338699</td>\n",
       "      <td>0.710638</td>\n",
       "      <td>0.651400</td>\n",
       "      <td>0.696600</td>\n",
       "    </tr>\n",
       "    <tr>\n",
       "      <th>3</th>\n",
       "      <td>0.169467</td>\n",
       "      <td>0.926819</td>\n",
       "      <td>0.376865</td>\n",
       "      <td>0.679862</td>\n",
       "      <td>0.973175</td>\n",
       "      <td>0.279433</td>\n",
       "    </tr>\n",
       "    <tr>\n",
       "      <th>4</th>\n",
       "      <td>0.141936</td>\n",
       "      <td>0.160220</td>\n",
       "      <td>0.370748</td>\n",
       "      <td>0.864386</td>\n",
       "      <td>0.632045</td>\n",
       "      <td>0.136803</td>\n",
       "    </tr>\n",
       "    <tr>\n",
       "      <th>5</th>\n",
       "      <td>0.965859</td>\n",
       "      <td>0.251060</td>\n",
       "      <td>0.524207</td>\n",
       "      <td>0.629167</td>\n",
       "      <td>0.563747</td>\n",
       "      <td>0.371516</td>\n",
       "    </tr>\n",
       "    <tr>\n",
       "      <th>6</th>\n",
       "      <td>0.680944</td>\n",
       "      <td>0.774415</td>\n",
       "      <td>0.417206</td>\n",
       "      <td>0.686957</td>\n",
       "      <td>0.517354</td>\n",
       "      <td>0.534199</td>\n",
       "    </tr>\n",
       "  </tbody>\n",
       "</table>\n",
       "</div>"
      ],
      "text/plain": [
       "   column_1  column_2  column_3  column_4  column_5  column_6\n",
       "1  0.826885  0.948951  0.797121  0.843325  0.239617  0.499503\n",
       "2  0.532399  0.427854  0.338699  0.710638  0.651400  0.696600\n",
       "3  0.169467  0.926819  0.376865  0.679862  0.973175  0.279433\n",
       "4  0.141936  0.160220  0.370748  0.864386  0.632045  0.136803\n",
       "5  0.965859  0.251060  0.524207  0.629167  0.563747  0.371516\n",
       "6  0.680944  0.774415  0.417206  0.686957  0.517354  0.534199"
      ]
     },
     "execution_count": 7,
     "metadata": {},
     "output_type": "execute_result"
    }
   ],
   "source": [
    "import pandas as pd\n",
    "import numpy as np\n",
    "columns = ['column_1', 'column_2', 'column_3', 'column_4', 'column_5', 'column_6']\n",
    "indices = [1,2,3,4,5,6]\n",
    "#Creating a dataframe:\n",
    "df1 = pd.DataFrame(np.random.rand(6,6), columns = columns, index = indices)\n",
    "df1"
   ]
  },
  {
   "cell_type": "code",
   "execution_count": 8,
   "id": "3d46b2ec",
   "metadata": {},
   "outputs": [
    {
     "data": {
      "text/plain": [
       "0.4196758203071321"
      ]
     },
     "execution_count": 8,
     "metadata": {},
     "output_type": "execute_result"
    }
   ],
   "source": [
    "#i)\n",
    "df1['column_1'].mean()\n",
    "df1['column_2'].mean()\n",
    "df1['column_3'].mean()\n",
    "df1['column_4'].mean()\n",
    "df1['column_5'].mean()\n",
    "df1['column_6'].mean()"
   ]
  },
  {
   "cell_type": "code",
   "execution_count": 9,
   "id": "a9301df5",
   "metadata": {},
   "outputs": [
    {
     "data": {
      "text/plain": [
       "0.3469169646311342"
      ]
     },
     "execution_count": 9,
     "metadata": {},
     "output_type": "execute_result"
    }
   ],
   "source": [
    "#ii)\n",
    "df1['column_2'].std()"
   ]
  },
  {
   "cell_type": "markdown",
   "id": "826db0a3",
   "metadata": {},
   "source": [
    "Q.5"
   ]
  },
  {
   "cell_type": "code",
   "execution_count": 10,
   "id": "b816943e",
   "metadata": {},
   "outputs": [],
   "source": [
    "df1.loc[2, 'column_2'] = 'ABC'"
   ]
  },
  {
   "cell_type": "code",
   "execution_count": 11,
   "id": "2fdbd219",
   "metadata": {},
   "outputs": [
    {
     "data": {
      "text/html": [
       "<div>\n",
       "<style scoped>\n",
       "    .dataframe tbody tr th:only-of-type {\n",
       "        vertical-align: middle;\n",
       "    }\n",
       "\n",
       "    .dataframe tbody tr th {\n",
       "        vertical-align: top;\n",
       "    }\n",
       "\n",
       "    .dataframe thead th {\n",
       "        text-align: right;\n",
       "    }\n",
       "</style>\n",
       "<table border=\"1\" class=\"dataframe\">\n",
       "  <thead>\n",
       "    <tr style=\"text-align: right;\">\n",
       "      <th></th>\n",
       "      <th>column_1</th>\n",
       "      <th>column_2</th>\n",
       "      <th>column_3</th>\n",
       "      <th>column_4</th>\n",
       "      <th>column_5</th>\n",
       "      <th>column_6</th>\n",
       "    </tr>\n",
       "  </thead>\n",
       "  <tbody>\n",
       "    <tr>\n",
       "      <th>1</th>\n",
       "      <td>0.826885</td>\n",
       "      <td>0.948951</td>\n",
       "      <td>0.797121</td>\n",
       "      <td>0.843325</td>\n",
       "      <td>0.239617</td>\n",
       "      <td>0.499503</td>\n",
       "    </tr>\n",
       "    <tr>\n",
       "      <th>2</th>\n",
       "      <td>0.532399</td>\n",
       "      <td>ABC</td>\n",
       "      <td>0.338699</td>\n",
       "      <td>0.710638</td>\n",
       "      <td>0.651400</td>\n",
       "      <td>0.696600</td>\n",
       "    </tr>\n",
       "    <tr>\n",
       "      <th>3</th>\n",
       "      <td>0.169467</td>\n",
       "      <td>0.926819</td>\n",
       "      <td>0.376865</td>\n",
       "      <td>0.679862</td>\n",
       "      <td>0.973175</td>\n",
       "      <td>0.279433</td>\n",
       "    </tr>\n",
       "    <tr>\n",
       "      <th>4</th>\n",
       "      <td>0.141936</td>\n",
       "      <td>0.16022</td>\n",
       "      <td>0.370748</td>\n",
       "      <td>0.864386</td>\n",
       "      <td>0.632045</td>\n",
       "      <td>0.136803</td>\n",
       "    </tr>\n",
       "    <tr>\n",
       "      <th>5</th>\n",
       "      <td>0.965859</td>\n",
       "      <td>0.25106</td>\n",
       "      <td>0.524207</td>\n",
       "      <td>0.629167</td>\n",
       "      <td>0.563747</td>\n",
       "      <td>0.371516</td>\n",
       "    </tr>\n",
       "    <tr>\n",
       "      <th>6</th>\n",
       "      <td>0.680944</td>\n",
       "      <td>0.774415</td>\n",
       "      <td>0.417206</td>\n",
       "      <td>0.686957</td>\n",
       "      <td>0.517354</td>\n",
       "      <td>0.534199</td>\n",
       "    </tr>\n",
       "  </tbody>\n",
       "</table>\n",
       "</div>"
      ],
      "text/plain": [
       "   column_1  column_2  column_3  column_4  column_5  column_6\n",
       "1  0.826885  0.948951  0.797121  0.843325  0.239617  0.499503\n",
       "2  0.532399       ABC  0.338699  0.710638  0.651400  0.696600\n",
       "3  0.169467  0.926819  0.376865  0.679862  0.973175  0.279433\n",
       "4  0.141936   0.16022  0.370748  0.864386  0.632045  0.136803\n",
       "5  0.965859   0.25106  0.524207  0.629167  0.563747  0.371516\n",
       "6  0.680944  0.774415  0.417206  0.686957  0.517354  0.534199"
      ]
     },
     "execution_count": 11,
     "metadata": {},
     "output_type": "execute_result"
    }
   ],
   "source": [
    "df1"
   ]
  },
  {
   "cell_type": "code",
   "execution_count": 12,
   "id": "f8923e9a",
   "metadata": {},
   "outputs": [
    {
     "data": {
      "text/plain": [
       "0.6122929677274354"
      ]
     },
     "execution_count": 12,
     "metadata": {},
     "output_type": "execute_result"
    }
   ],
   "source": [
    "df1.loc[[1,3,4,5,6], 'column_2'].mean()"
   ]
  },
  {
   "cell_type": "markdown",
   "id": "ce8eea88",
   "metadata": {},
   "source": [
    "Q.6"
   ]
  },
  {
   "cell_type": "markdown",
   "id": "093b1c1d",
   "metadata": {},
   "source": [
    "Window Function : The Window functions in Pandas are used to perform some sort of calculations across a set of rows that are interrelated with the current row. \n",
    "1. Aggregate\n",
    "2. Ranking\n",
    "3. Value\n"
   ]
  },
  {
   "cell_type": "markdown",
   "id": "7e25d77e",
   "metadata": {},
   "source": [
    "Q.7"
   ]
  },
  {
   "cell_type": "code",
   "execution_count": 13,
   "id": "c730e16f",
   "metadata": {},
   "outputs": [
    {
     "data": {
      "text/plain": [
       "2023"
      ]
     },
     "execution_count": 13,
     "metadata": {},
     "output_type": "execute_result"
    }
   ],
   "source": [
    "from datetime import datetime\n",
    "\n",
    "datetime.now().month\n",
    "datetime.now().year"
   ]
  },
  {
   "cell_type": "markdown",
   "id": "664f8fae",
   "metadata": {},
   "source": [
    "Q.9"
   ]
  },
  {
   "cell_type": "code",
   "execution_count": null,
   "id": "35a8a63a",
   "metadata": {},
   "outputs": [],
   "source": [
    "file = input(\"Enter the file name : \")\n",
    "col_name = input(\"Enter Column Name :\")\n",
    "Category_order = bool(int(input(\"Enter Category Order : 0=False or 1=True \")))\n",
    "\n",
    "df1 = pd.read_csv(file)\n",
    "s = pd.Categorical(df1[col_name], ordered=Category_order).sort_values()\n",
    "\n",
    "pd.DataFrame(s)"
   ]
  },
  {
   "cell_type": "markdown",
   "id": "5236396a",
   "metadata": {},
   "source": [
    "Q.10\n"
   ]
  },
  {
   "cell_type": "code",
   "execution_count": null,
   "id": "88405177",
   "metadata": {},
   "outputs": [],
   "source": [
    "file_path = input(\"Enter File Path : \")\n",
    "\n",
    "d = pd.read_csv(file_path)\n",
    "d.plot.bar(x='Products', y='Sales')\n",
    "d.plot.bar()"
   ]
  },
  {
   "cell_type": "markdown",
   "id": "a0ae4125",
   "metadata": {},
   "source": [
    "Q.11"
   ]
  },
  {
   "cell_type": "code",
   "execution_count": null,
   "id": "e5d3f5e1",
   "metadata": {},
   "outputs": [],
   "source": [
    "file = input(\"Enter the file name : \")\n",
    "\n",
    "df2 = pd.read_csv(file)\n",
    "\n",
    "mean = df2['Test Score'].mean()\n",
    "median = df2['Test Score'].median()\n",
    "mode = list(df2['Test Score'].mode())[0]\n",
    "\n",
    "pd.DataFrame({\n",
    "    'Statistic' : ['Mean', 'Median', 'Mode'],\n",
    "    'Value' : [mean, median, mode]\n",
    "})"
   ]
  },
  {
   "cell_type": "code",
   "execution_count": 14,
   "id": "49acf84e",
   "metadata": {},
   "outputs": [
    {
     "data": {
      "text/html": [
       "<div>\n",
       "<style scoped>\n",
       "    .dataframe tbody tr th:only-of-type {\n",
       "        vertical-align: middle;\n",
       "    }\n",
       "\n",
       "    .dataframe tbody tr th {\n",
       "        vertical-align: top;\n",
       "    }\n",
       "\n",
       "    .dataframe thead th {\n",
       "        text-align: right;\n",
       "    }\n",
       "</style>\n",
       "<table border=\"1\" class=\"dataframe\">\n",
       "  <thead>\n",
       "    <tr style=\"text-align: right;\">\n",
       "      <th></th>\n",
       "      <th>Statistic</th>\n",
       "      <th>Value</th>\n",
       "    </tr>\n",
       "  </thead>\n",
       "  <tbody>\n",
       "    <tr>\n",
       "      <th>0</th>\n",
       "      <td>Mean</td>\n",
       "      <td>83.5</td>\n",
       "    </tr>\n",
       "    <tr>\n",
       "      <th>1</th>\n",
       "      <td>Median</td>\n",
       "      <td>85.0</td>\n",
       "    </tr>\n",
       "    <tr>\n",
       "      <th>2</th>\n",
       "      <td>Mode</td>\n",
       "      <td>85.0</td>\n",
       "    </tr>\n",
       "  </tbody>\n",
       "</table>\n",
       "</div>"
      ],
      "text/plain": [
       "  Statistic  Value\n",
       "0      Mean   83.5\n",
       "1    Median   85.0\n",
       "2      Mode   85.0"
      ]
     },
     "execution_count": 14,
     "metadata": {},
     "output_type": "execute_result"
    }
   ],
   "source": [
    "df3 = pd.DataFrame({\n",
    "    'Student Id': [1,2,3,4,5,6,7,8,9,10],\n",
    "    'Test Score': [85,90,80,75,85,82,78,85,90,85]\n",
    "})\n",
    "\n",
    "mean = df3['Test Score'].mean()\n",
    "median = df3['Test Score'].median()\n",
    "mode = list(df3['Test Score'].mode())[0]\n",
    "\n",
    "pd.DataFrame({\n",
    "    'Statistic' : ['Mean', 'Median', 'Mode'],\n",
    "    'Value' : [mean, median, mode]\n",
    "})"
   ]
  },
  {
   "cell_type": "code",
   "execution_count": null,
   "id": "20a13396",
   "metadata": {},
   "outputs": [],
   "source": []
  }
 ],
 "metadata": {
  "kernelspec": {
   "display_name": "Python 3",
   "language": "python",
   "name": "python3"
  },
  "language_info": {
   "codemirror_mode": {
    "name": "ipython",
    "version": 3
   },
   "file_extension": ".py",
   "mimetype": "text/x-python",
   "name": "python",
   "nbconvert_exporter": "python",
   "pygments_lexer": "ipython3",
   "version": "3.6.8"
  }
 },
 "nbformat": 4,
 "nbformat_minor": 5
}
