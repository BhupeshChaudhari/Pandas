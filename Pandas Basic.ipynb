{
 "cells": [
  {
   "cell_type": "markdown",
   "id": "fbead652",
   "metadata": {},
   "source": [
    "Q.1"
   ]
  },
  {
   "cell_type": "code",
   "execution_count": 2,
   "id": "3d14cf9e",
   "metadata": {},
   "outputs": [],
   "source": [
    "import pandas as pd"
   ]
  },
  {
   "cell_type": "code",
   "execution_count": 17,
   "id": "30277ff2",
   "metadata": {},
   "outputs": [
    {
     "data": {
      "text/plain": [
       "0     4\n",
       "1     8\n",
       "2    15\n",
       "3    16\n",
       "4    23\n",
       "5    42\n",
       "dtype: int64"
      ]
     },
     "execution_count": 17,
     "metadata": {},
     "output_type": "execute_result"
    }
   ],
   "source": [
    "#Pandas Series\n",
    "\n",
    "s = pd.Series([4,8,15,16,23,42])\n",
    "s"
   ]
  },
  {
   "cell_type": "markdown",
   "id": "c20e5d3d",
   "metadata": {},
   "source": [
    "Q.2"
   ]
  },
  {
   "cell_type": "code",
   "execution_count": 19,
   "id": "c9494f1f",
   "metadata": {},
   "outputs": [
    {
     "data": {
      "text/plain": [
       "0    2\n",
       "1    5\n",
       "2    6\n",
       "3    1\n",
       "4    8\n",
       "5    6\n",
       "6    4\n",
       "7    9\n",
       "8    2\n",
       "9    3\n",
       "dtype: int64"
      ]
     },
     "execution_count": 19,
     "metadata": {},
     "output_type": "execute_result"
    }
   ],
   "source": [
    "l = [2,5,6,1,8,6,4,9,2,3]\n",
    "\n",
    "s1 = pd.Series(l)\n",
    "s1"
   ]
  },
  {
   "cell_type": "markdown",
   "id": "e2467ea3",
   "metadata": {},
   "source": [
    "Q.3"
   ]
  },
  {
   "cell_type": "code",
   "execution_count": 25,
   "id": "1a7b6330",
   "metadata": {},
   "outputs": [
    {
     "data": {
      "text/html": [
       "<div>\n",
       "<style scoped>\n",
       "    .dataframe tbody tr th:only-of-type {\n",
       "        vertical-align: middle;\n",
       "    }\n",
       "\n",
       "    .dataframe tbody tr th {\n",
       "        vertical-align: top;\n",
       "    }\n",
       "\n",
       "    .dataframe thead th {\n",
       "        text-align: right;\n",
       "    }\n",
       "</style>\n",
       "<table border=\"1\" class=\"dataframe\">\n",
       "  <thead>\n",
       "    <tr style=\"text-align: right;\">\n",
       "      <th></th>\n",
       "      <th>Name</th>\n",
       "      <th>Age</th>\n",
       "      <th>Gender</th>\n",
       "    </tr>\n",
       "  </thead>\n",
       "  <tbody>\n",
       "    <tr>\n",
       "      <th>0</th>\n",
       "      <td>Alice</td>\n",
       "      <td>25</td>\n",
       "      <td>Female</td>\n",
       "    </tr>\n",
       "    <tr>\n",
       "      <th>1</th>\n",
       "      <td>Bob</td>\n",
       "      <td>30</td>\n",
       "      <td>Male</td>\n",
       "    </tr>\n",
       "    <tr>\n",
       "      <th>2</th>\n",
       "      <td>Claire</td>\n",
       "      <td>27</td>\n",
       "      <td>Female</td>\n",
       "    </tr>\n",
       "  </tbody>\n",
       "</table>\n",
       "</div>"
      ],
      "text/plain": [
       "     Name  Age  Gender\n",
       "0   Alice   25  Female\n",
       "1     Bob   30    Male\n",
       "2  Claire   27  Female"
      ]
     },
     "execution_count": 25,
     "metadata": {},
     "output_type": "execute_result"
    }
   ],
   "source": [
    "dict = {\n",
    "    'Name': ['Alice', 'Bob','Claire'],\n",
    "    'Age' : [25,30,27],\n",
    "    'Gender':['Female','Male','Female']\n",
    "}\n",
    "\n",
    "s2 = pd.DataFrame(dict)\n",
    "s2"
   ]
  },
  {
   "cell_type": "markdown",
   "id": "0fac0776",
   "metadata": {},
   "source": [
    "Q.4"
   ]
  },
  {
   "cell_type": "markdown",
   "id": "9b6ed497",
   "metadata": {},
   "source": [
    "DataFrame : DataFrame is two dimensional data structure with rows and columns.\n",
    "\n",
    "Series : Series is One-dimensional labeled Array.\n",
    "\n",
    "Ex.,"
   ]
  },
  {
   "cell_type": "code",
   "execution_count": 27,
   "id": "18dc386f",
   "metadata": {},
   "outputs": [
    {
     "data": {
      "text/plain": [
       "0    ramesg@gmail.com\n",
       "1    mahesh@gmail.com\n",
       "2     umesh@gmail.com\n",
       "Name: email, dtype: object"
      ]
     },
     "execution_count": 27,
     "metadata": {},
     "output_type": "execute_result"
    }
   ],
   "source": [
    "d = {\n",
    "    'Name' : ['Ramesh', 'mahesh', 'Umesh'],\n",
    "    'Mobile no.' : [9877685987, 7688546598, 6775890687],\n",
    "    'email' : ['ramesg@gmail.com', 'mahesh@gmail.com', 'umesh@gmail.com']\n",
    "}\n",
    "\n",
    "#DataFrame\n",
    "s3 = pd.DataFrame(d)\n",
    "s3\n",
    "\n",
    "#Series\n",
    "s3['email']"
   ]
  },
  {
   "cell_type": "markdown",
   "id": "3fc01f66",
   "metadata": {},
   "source": [
    "Q.5"
   ]
  },
  {
   "cell_type": "markdown",
   "id": "b6edf85f",
   "metadata": {},
   "source": [
    "Common functions use to manipulate data in Pandas DataFrame :\n",
    "\n",
    "    1. head()\n",
    "    2. tail()\n",
    "    3. drop()\n",
    "    4. loc and iloc\n",
    "    5. describe()\n",
    "    6. grou"
   ]
  },
  {
   "cell_type": "code",
   "execution_count": null,
   "id": "ef8286b1",
   "metadata": {},
   "outputs": [],
   "source": [
    "#Demontration of function\n",
    "#1 head()\n",
    "df = pd.read_csv('xyz.csv')\n",
    "df.head()\n",
    "\n",
    "#2 drop()\n",
    "df.drop(columns='Age')\n",
    "\n",
    "#3 groupby()\n",
    "df.groupby('Age').mean()"
   ]
  },
  {
   "cell_type": "markdown",
   "id": "17fae0b6",
   "metadata": {},
   "source": [
    "Q.6"
   ]
  },
  {
   "cell_type": "markdown",
   "id": "1b75abb1",
   "metadata": {},
   "source": [
    "DataFrame and Panel are Mutable in Nature"
   ]
  },
  {
   "cell_type": "markdown",
   "id": "af311103",
   "metadata": {},
   "source": [
    "Q.7"
   ]
  },
  {
   "cell_type": "code",
   "execution_count": 3,
   "id": "967fdf5b",
   "metadata": {},
   "outputs": [
    {
     "data": {
      "text/html": [
       "<div>\n",
       "<style scoped>\n",
       "    .dataframe tbody tr th:only-of-type {\n",
       "        vertical-align: middle;\n",
       "    }\n",
       "\n",
       "    .dataframe tbody tr th {\n",
       "        vertical-align: top;\n",
       "    }\n",
       "\n",
       "    .dataframe thead th {\n",
       "        text-align: right;\n",
       "    }\n",
       "</style>\n",
       "<table border=\"1\" class=\"dataframe\">\n",
       "  <thead>\n",
       "    <tr style=\"text-align: right;\">\n",
       "      <th></th>\n",
       "      <th>Id</th>\n",
       "      <th>Name</th>\n",
       "      <th>Eamil</th>\n",
       "    </tr>\n",
       "  </thead>\n",
       "  <tbody>\n",
       "    <tr>\n",
       "      <th>0</th>\n",
       "      <td>22</td>\n",
       "      <td>Vishal</td>\n",
       "      <td>vishal@gmail.com</td>\n",
       "    </tr>\n",
       "    <tr>\n",
       "      <th>1</th>\n",
       "      <td>33</td>\n",
       "      <td>Sagar</td>\n",
       "      <td>sagar@gmail.com</td>\n",
       "    </tr>\n",
       "    <tr>\n",
       "      <th>2</th>\n",
       "      <td>43</td>\n",
       "      <td>Nikhil</td>\n",
       "      <td>nikhil@gmail.com</td>\n",
       "    </tr>\n",
       "  </tbody>\n",
       "</table>\n",
       "</div>"
      ],
      "text/plain": [
       "   Id    Name             Eamil\n",
       "0  22  Vishal  vishal@gmail.com\n",
       "1  33   Sagar   sagar@gmail.com\n",
       "2  43  Nikhil  nikhil@gmail.com"
      ]
     },
     "execution_count": 3,
     "metadata": {},
     "output_type": "execute_result"
    }
   ],
   "source": [
    "#Here are the Data in list\n",
    "l1 = ['Vishal', 'Sagar', 'Nikhil']\n",
    "l2 = [22,33,43]\n",
    "l3 = ['vishal@gmail.com', 'sagar@gmail.com', 'nikhil@gmail.com']\n",
    "\n",
    "#we are passing list data in series\n",
    "Name = pd.Series(l1)\n",
    "Id = pd.Series(l2)\n",
    "Email = pd.Series(l3)\n",
    "\n",
    "dict = {\n",
    "    'Id' : Id, \n",
    "    'Name' : Name,\n",
    "    'Eamil' : Email\n",
    "}\n",
    "\n",
    "#converting series data into a DataFrame\n",
    "pd.DataFrame(dict)"
   ]
  },
  {
   "cell_type": "code",
   "execution_count": null,
   "id": "96840a6a",
   "metadata": {},
   "outputs": [],
   "source": []
  }
 ],
 "metadata": {
  "kernelspec": {
   "display_name": "Python 3",
   "language": "python",
   "name": "python3"
  },
  "language_info": {
   "codemirror_mode": {
    "name": "ipython",
    "version": 3
   },
   "file_extension": ".py",
   "mimetype": "text/x-python",
   "name": "python",
   "nbconvert_exporter": "python",
   "pygments_lexer": "ipython3",
   "version": "3.6.8"
  }
 },
 "nbformat": 4,
 "nbformat_minor": 5
}
