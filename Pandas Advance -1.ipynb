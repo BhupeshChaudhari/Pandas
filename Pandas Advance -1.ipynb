{
 "cells": [
  {
   "cell_type": "code",
   "execution_count": 2,
   "id": "461f5411",
   "metadata": {},
   "outputs": [],
   "source": [
    "import pandas as pd"
   ]
  },
  {
   "cell_type": "markdown",
   "id": "135cb7aa",
   "metadata": {},
   "source": [
    "Q.1"
   ]
  },
  {
   "cell_type": "markdown",
   "id": "4fe29164",
   "metadata": {},
   "source": [
    "Five functions of Pandas Library :\n",
    "\n",
    "    1. head()\n",
    "    2. tail()\n",
    "    3. loc iloc\n",
    "    4. groupby\n",
    "    5. sort_values()"
   ]
  },
  {
   "cell_type": "code",
   "execution_count": 25,
   "id": "287fbfdb",
   "metadata": {},
   "outputs": [
    {
     "data": {
      "text/html": [
       "<div>\n",
       "<style scoped>\n",
       "    .dataframe tbody tr th:only-of-type {\n",
       "        vertical-align: middle;\n",
       "    }\n",
       "\n",
       "    .dataframe tbody tr th {\n",
       "        vertical-align: top;\n",
       "    }\n",
       "\n",
       "    .dataframe thead th {\n",
       "        text-align: right;\n",
       "    }\n",
       "</style>\n",
       "<table border=\"1\" class=\"dataframe\">\n",
       "  <thead>\n",
       "    <tr style=\"text-align: right;\">\n",
       "      <th></th>\n",
       "      <th>Id</th>\n",
       "      <th>Name</th>\n",
       "      <th>Address</th>\n",
       "    </tr>\n",
       "  </thead>\n",
       "  <tbody>\n",
       "    <tr>\n",
       "      <th>2</th>\n",
       "      <td>103</td>\n",
       "      <td>Aniket</td>\n",
       "      <td>Nashik</td>\n",
       "    </tr>\n",
       "    <tr>\n",
       "      <th>3</th>\n",
       "      <td>104</td>\n",
       "      <td>Sham</td>\n",
       "      <td>Thane</td>\n",
       "    </tr>\n",
       "    <tr>\n",
       "      <th>1</th>\n",
       "      <td>108</td>\n",
       "      <td>Ram</td>\n",
       "      <td>Mumbai</td>\n",
       "    </tr>\n",
       "    <tr>\n",
       "      <th>0</th>\n",
       "      <td>109</td>\n",
       "      <td>Dev</td>\n",
       "      <td>Dhule</td>\n",
       "    </tr>\n",
       "  </tbody>\n",
       "</table>\n",
       "</div>"
      ],
      "text/plain": [
       "    Id    Name Address\n",
       "2  103  Aniket  Nashik\n",
       "3  104    Sham   Thane\n",
       "1  108     Ram  Mumbai\n",
       "0  109     Dev   Dhule"
      ]
     },
     "execution_count": 25,
     "metadata": {},
     "output_type": "execute_result"
    }
   ],
   "source": [
    "s = pd.DataFrame({\n",
    "    'Id': [109, 108, 103, 104],\n",
    "    'Name': ['Dev', 'Ram', 'Aniket', 'Sham'],\n",
    "    'Address' : ['Dhule', 'Mumbai','Nashik', 'Thane']\n",
    "})\n",
    "\n",
    "s.head(2)\n",
    "\n",
    "s.tail(3)\n",
    "\n",
    "#Sorting according to id\n",
    "s.sort_values(by='Id')\n"
   ]
  },
  {
   "cell_type": "code",
   "execution_count": 40,
   "id": "c339af86",
   "metadata": {},
   "outputs": [
    {
     "data": {
      "text/html": [
       "<div>\n",
       "<style scoped>\n",
       "    .dataframe tbody tr th:only-of-type {\n",
       "        vertical-align: middle;\n",
       "    }\n",
       "\n",
       "    .dataframe tbody tr th {\n",
       "        vertical-align: top;\n",
       "    }\n",
       "\n",
       "    .dataframe thead th {\n",
       "        text-align: right;\n",
       "    }\n",
       "</style>\n",
       "<table border=\"1\" class=\"dataframe\">\n",
       "  <thead>\n",
       "    <tr style=\"text-align: right;\">\n",
       "      <th></th>\n",
       "      <th>Name</th>\n",
       "      <th>Address</th>\n",
       "    </tr>\n",
       "  </thead>\n",
       "  <tbody>\n",
       "    <tr>\n",
       "      <th>0</th>\n",
       "      <td>Dev</td>\n",
       "      <td>Dhule</td>\n",
       "    </tr>\n",
       "    <tr>\n",
       "      <th>1</th>\n",
       "      <td>Ram</td>\n",
       "      <td>Mumbai</td>\n",
       "    </tr>\n",
       "    <tr>\n",
       "      <th>2</th>\n",
       "      <td>Aniket</td>\n",
       "      <td>Nashik</td>\n",
       "    </tr>\n",
       "  </tbody>\n",
       "</table>\n",
       "</div>"
      ],
      "text/plain": [
       "     Name Address\n",
       "0     Dev   Dhule\n",
       "1     Ram  Mumbai\n",
       "2  Aniket  Nashik"
      ]
     },
     "execution_count": 40,
     "metadata": {},
     "output_type": "execute_result"
    }
   ],
   "source": [
    "#loc - Column Name\n",
    "s.loc[0:2, ['Id', 'Name']]\n",
    "#iloc\n",
    "s.iloc[0:3, [1,2]]"
   ]
  },
  {
   "cell_type": "code",
   "execution_count": 30,
   "id": "8ea71c43",
   "metadata": {},
   "outputs": [
    {
     "data": {
      "text/html": [
       "<div>\n",
       "<style scoped>\n",
       "    .dataframe tbody tr th:only-of-type {\n",
       "        vertical-align: middle;\n",
       "    }\n",
       "\n",
       "    .dataframe tbody tr th {\n",
       "        vertical-align: top;\n",
       "    }\n",
       "\n",
       "    .dataframe thead th {\n",
       "        text-align: right;\n",
       "    }\n",
       "</style>\n",
       "<table border=\"1\" class=\"dataframe\">\n",
       "  <thead>\n",
       "    <tr style=\"text-align: right;\">\n",
       "      <th></th>\n",
       "      <th>speed</th>\n",
       "    </tr>\n",
       "    <tr>\n",
       "      <th>Vehicle</th>\n",
       "      <th></th>\n",
       "    </tr>\n",
       "  </thead>\n",
       "  <tbody>\n",
       "    <tr>\n",
       "      <th>bike</th>\n",
       "      <td>82.5</td>\n",
       "    </tr>\n",
       "    <tr>\n",
       "      <th>car</th>\n",
       "      <td>195.0</td>\n",
       "    </tr>\n",
       "  </tbody>\n",
       "</table>\n",
       "</div>"
      ],
      "text/plain": [
       "         speed\n",
       "Vehicle       \n",
       "bike      82.5\n",
       "car      195.0"
      ]
     },
     "execution_count": 30,
     "metadata": {},
     "output_type": "execute_result"
    }
   ],
   "source": [
    "#Groupby - calculating the avg speed of car and bike\n",
    "s1 = pd.DataFrame({\n",
    "    'Vehicle' : ['car', 'bike', 'car', 'bike'],\n",
    "    'speed' : [180, 90, 210, 75]\n",
    "})\n",
    "\n",
    "s1.groupby('Vehicle').mean()"
   ]
  },
  {
   "cell_type": "markdown",
   "id": "e8ed19d4",
   "metadata": {},
   "source": [
    "Q.2"
   ]
  },
  {
   "cell_type": "code",
   "execution_count": 44,
   "id": "c8bb4f2e",
   "metadata": {},
   "outputs": [
    {
     "data": {
      "text/html": [
       "<div>\n",
       "<style scoped>\n",
       "    .dataframe tbody tr th:only-of-type {\n",
       "        vertical-align: middle;\n",
       "    }\n",
       "\n",
       "    .dataframe tbody tr th {\n",
       "        vertical-align: top;\n",
       "    }\n",
       "\n",
       "    .dataframe thead th {\n",
       "        text-align: right;\n",
       "    }\n",
       "</style>\n",
       "<table border=\"1\" class=\"dataframe\">\n",
       "  <thead>\n",
       "    <tr style=\"text-align: right;\">\n",
       "      <th></th>\n",
       "      <th>A</th>\n",
       "      <th>B</th>\n",
       "      <th>C</th>\n",
       "    </tr>\n",
       "  </thead>\n",
       "  <tbody>\n",
       "    <tr>\n",
       "      <th>1</th>\n",
       "      <td>1</td>\n",
       "      <td>5</td>\n",
       "      <td>2</td>\n",
       "    </tr>\n",
       "    <tr>\n",
       "      <th>3</th>\n",
       "      <td>2</td>\n",
       "      <td>6</td>\n",
       "      <td>4</td>\n",
       "    </tr>\n",
       "    <tr>\n",
       "      <th>5</th>\n",
       "      <td>3</td>\n",
       "      <td>7</td>\n",
       "      <td>6</td>\n",
       "    </tr>\n",
       "    <tr>\n",
       "      <th>7</th>\n",
       "      <td>4</td>\n",
       "      <td>8</td>\n",
       "      <td>7</td>\n",
       "    </tr>\n",
       "    <tr>\n",
       "      <th>9</th>\n",
       "      <td>5</td>\n",
       "      <td>8</td>\n",
       "      <td>9</td>\n",
       "    </tr>\n",
       "  </tbody>\n",
       "</table>\n",
       "</div>"
      ],
      "text/plain": [
       "   A  B  C\n",
       "1  1  5  2\n",
       "3  2  6  4\n",
       "5  3  7  6\n",
       "7  4  8  7\n",
       "9  5  8  9"
      ]
     },
     "execution_count": 44,
     "metadata": {},
     "output_type": "execute_result"
    }
   ],
   "source": [
    "# Que. Reindex the dataframe start with 1 and increment by 2\n",
    "\n",
    "#For Demonstration we have consider some data in the cloumns A, B, C\n",
    "s = pd.DataFrame({\n",
    "    'A' : [1,2,3,4,5],\n",
    "    'B': [5,6,7,8,8],\n",
    "    'C': [2,4,6,7,9]\n",
    "})\n",
    "\n",
    "def re_index(s):\n",
    "    l = []\n",
    "    for i in range(len(s)*2)[1 :len(s)*2 + 1 :2]:\n",
    "        l.append(i)\n",
    "    return s.set_index(pd.Index(l))\n",
    "\n",
    "re_index(s)\n",
    "        "
   ]
  },
  {
   "cell_type": "markdown",
   "id": "383081c2",
   "metadata": {},
   "source": [
    "Q.3"
   ]
  },
  {
   "cell_type": "code",
   "execution_count": null,
   "id": "6beca0a3",
   "metadata": {},
   "outputs": [],
   "source": [
    "# Que. Calculating the sum of three values from the column 'Values'\n",
    "\n",
    "def sum_values(df):\n",
    "    return df['Values'][0:4].sum()\n",
    "      \n",
    "sum_values(df)"
   ]
  },
  {
   "cell_type": "markdown",
   "id": "579dda12",
   "metadata": {},
   "source": [
    "Q.4"
   ]
  },
  {
   "cell_type": "code",
   "execution_count": null,
   "id": "aefffb8e",
   "metadata": {},
   "outputs": [],
   "source": [
    "# Que. Create new column 'Word_Count' that contains no.of words in 'Text' Column\n",
    "\n",
    "def new_column(df):\n",
    "    df['Word_Count'] = df['Text'].apply(lambda x : len(x.split()))\n",
    "    return df\n",
    "\n",
    "new_column_column(df)"
   ]
  },
  {
   "cell_type": "markdown",
   "id": "d9ded5ac",
   "metadata": {},
   "source": [
    "Q.5"
   ]
  },
  {
   "cell_type": "markdown",
   "id": "35fedb92",
   "metadata": {},
   "source": [
    "DataFrame.size() : It gives the total elements as ( rows X columns )\n",
    "\n",
    "DataFrame.shape() : It gives the toal rows and columns in tuple as (rows, columns)"
   ]
  },
  {
   "cell_type": "markdown",
   "id": "032a0c15",
   "metadata": {},
   "source": [
    "Q.6"
   ]
  },
  {
   "cell_type": "code",
   "execution_count": 7,
   "id": "c52f938d",
   "metadata": {},
   "outputs": [],
   "source": [
    "#function of pandas do we use to read an excel file\n",
    "\n",
    "df = pd.read_excel('xyz.xlsx')"
   ]
  },
  {
   "cell_type": "markdown",
   "id": "7be2e9bb",
   "metadata": {},
   "source": [
    "Q.7"
   ]
  },
  {
   "cell_type": "code",
   "execution_count": null,
   "id": "f87a57d5",
   "metadata": {},
   "outputs": [],
   "source": [
    "# Que. create new column 'Username' that contains name from 'Email' Column  \n",
    "#'username@domain.com'\n",
    "\n",
    "df['Username'] = df['Email'].apply(lambda x : x.split(\"@\")[0])"
   ]
  },
  {
   "cell_type": "markdown",
   "id": "12514a07",
   "metadata": {},
   "source": [
    "Q.8"
   ]
  },
  {
   "cell_type": "code",
   "execution_count": null,
   "id": "e034a352",
   "metadata": {},
   "outputs": [],
   "source": [
    "def new_df(df):\n",
    "    return df[(df['A'] > 5) & (df['B'] < 10)]\n",
    "\n",
    "new_df(df)"
   ]
  },
  {
   "cell_type": "markdown",
   "id": "20af657c",
   "metadata": {},
   "source": [
    "Q.9"
   ]
  },
  {
   "cell_type": "code",
   "execution_count": null,
   "id": "816b64cd",
   "metadata": {},
   "outputs": [],
   "source": [
    "s = df[['Values']]\n",
    "\n",
    "def cal(s):\n",
    "    return f\"Mean : {list(s.mean())} Median : {list(s.median())} Std deviation : {list(s.std())}\"\n",
    "\n",
    "cal(s)"
   ]
  },
  {
   "cell_type": "markdown",
   "id": "76cb88b7",
   "metadata": {},
   "source": [
    "Q.10"
   ]
  },
  {
   "cell_type": "code",
   "execution_count": null,
   "id": "032bacaa",
   "metadata": {},
   "outputs": [],
   "source": [
    "df['MovingAverage'] = df['Sales'].rolling(window=7).mean()"
   ]
  },
  {
   "cell_type": "markdown",
   "id": "f0585e0c",
   "metadata": {},
   "source": [
    "Q.11"
   ]
  },
  {
   "cell_type": "code",
   "execution_count": 55,
   "id": "70ba071b",
   "metadata": {},
   "outputs": [
    {
     "data": {
      "text/html": [
       "<div>\n",
       "<style scoped>\n",
       "    .dataframe tbody tr th:only-of-type {\n",
       "        vertical-align: middle;\n",
       "    }\n",
       "\n",
       "    .dataframe tbody tr th {\n",
       "        vertical-align: top;\n",
       "    }\n",
       "\n",
       "    .dataframe thead th {\n",
       "        text-align: right;\n",
       "    }\n",
       "</style>\n",
       "<table border=\"1\" class=\"dataframe\">\n",
       "  <thead>\n",
       "    <tr style=\"text-align: right;\">\n",
       "      <th></th>\n",
       "      <th>date</th>\n",
       "      <th>Weekday</th>\n",
       "    </tr>\n",
       "  </thead>\n",
       "  <tbody>\n",
       "    <tr>\n",
       "      <th>0</th>\n",
       "      <td>2023-01-01</td>\n",
       "      <td>Sunday</td>\n",
       "    </tr>\n",
       "    <tr>\n",
       "      <th>1</th>\n",
       "      <td>2023-01-02</td>\n",
       "      <td>Monday</td>\n",
       "    </tr>\n",
       "    <tr>\n",
       "      <th>2</th>\n",
       "      <td>2023-01-03</td>\n",
       "      <td>Tuesday</td>\n",
       "    </tr>\n",
       "    <tr>\n",
       "      <th>3</th>\n",
       "      <td>2023-01-04</td>\n",
       "      <td>Wednesday</td>\n",
       "    </tr>\n",
       "  </tbody>\n",
       "</table>\n",
       "</div>"
      ],
      "text/plain": [
       "        date    Weekday\n",
       "0 2023-01-01     Sunday\n",
       "1 2023-01-02     Monday\n",
       "2 2023-01-03    Tuesday\n",
       "3 2023-01-04  Wednesday"
      ]
     },
     "execution_count": 55,
     "metadata": {},
     "output_type": "execute_result"
    }
   ],
   "source": [
    "d = pd.DataFrame({\n",
    "    'date': ['2023-01-01', '2023-01-02', '2023-01-03', '2023-01-04']\n",
    "})\n",
    "\n",
    "d['date'] = pd.to_datetime(d['date'])\n",
    "\n",
    "def weekday(d):\n",
    "    d['Weekday'] = d['date'].dt.strftime('%A')\n",
    "    return d\n",
    "\n",
    "weekday(d)\n"
   ]
  },
  {
   "cell_type": "markdown",
   "id": "a3c5c21c",
   "metadata": {},
   "source": [
    "Q.12"
   ]
  },
  {
   "cell_type": "code",
   "execution_count": 70,
   "id": "54bc3f3e",
   "metadata": {},
   "outputs": [
    {
     "data": {
      "text/html": [
       "<div>\n",
       "<style scoped>\n",
       "    .dataframe tbody tr th:only-of-type {\n",
       "        vertical-align: middle;\n",
       "    }\n",
       "\n",
       "    .dataframe tbody tr th {\n",
       "        vertical-align: top;\n",
       "    }\n",
       "\n",
       "    .dataframe thead th {\n",
       "        text-align: right;\n",
       "    }\n",
       "</style>\n",
       "<table border=\"1\" class=\"dataframe\">\n",
       "  <thead>\n",
       "    <tr style=\"text-align: right;\">\n",
       "      <th></th>\n",
       "      <th>date</th>\n",
       "    </tr>\n",
       "  </thead>\n",
       "  <tbody>\n",
       "    <tr>\n",
       "      <th>0</th>\n",
       "      <td>2023-01-02</td>\n",
       "    </tr>\n",
       "    <tr>\n",
       "      <th>1</th>\n",
       "      <td>2023-01-02</td>\n",
       "    </tr>\n",
       "    <tr>\n",
       "      <th>2</th>\n",
       "      <td>2023-01-03</td>\n",
       "    </tr>\n",
       "    <tr>\n",
       "      <th>3</th>\n",
       "      <td>2023-01-04</td>\n",
       "    </tr>\n",
       "    <tr>\n",
       "      <th>4</th>\n",
       "      <td>2023-01-05</td>\n",
       "    </tr>\n",
       "    <tr>\n",
       "      <th>5</th>\n",
       "      <td>2023-01-06</td>\n",
       "    </tr>\n",
       "    <tr>\n",
       "      <th>6</th>\n",
       "      <td>2023-01-07</td>\n",
       "    </tr>\n",
       "    <tr>\n",
       "      <th>7</th>\n",
       "      <td>2023-01-08</td>\n",
       "    </tr>\n",
       "    <tr>\n",
       "      <th>8</th>\n",
       "      <td>2023-01-09</td>\n",
       "    </tr>\n",
       "  </tbody>\n",
       "</table>\n",
       "</div>"
      ],
      "text/plain": [
       "        date\n",
       "0 2023-01-02\n",
       "1 2023-01-02\n",
       "2 2023-01-03\n",
       "3 2023-01-04\n",
       "4 2023-01-05\n",
       "5 2023-01-06\n",
       "6 2023-01-07\n",
       "7 2023-01-08\n",
       "8 2023-01-09"
      ]
     },
     "execution_count": 70,
     "metadata": {},
     "output_type": "execute_result"
    }
   ],
   "source": [
    "dt = pd.DataFrame({\n",
    "    'date':['2023-01-02','2023-01-02','2023-01-03','2023-01-04','2023-01-05','2023-01-06','2023-01-07','2023-01-08','2023-01-09','2023-01-10']\n",
    "})\n",
    "\n",
    "dt['date'] = pd.to_datetime(dt['date'])\n",
    "\n",
    "def date_bet(dt):\n",
    "    return dt[(dt['date'] > '2023-01-01') & (dt['date'] < '2023-01-10')]\n",
    " \n",
    "date_bet(dt)"
   ]
  },
  {
   "cell_type": "markdown",
   "id": "afbffd47",
   "metadata": {},
   "source": [
    "Q.12"
   ]
  },
  {
   "cell_type": "markdown",
   "id": "1e0fc71a",
   "metadata": {},
   "source": [
    "To used the basic functions of pandas we nees import Pandas Library as follows\n"
   ]
  },
  {
   "cell_type": "code",
   "execution_count": 69,
   "id": "a647fa10",
   "metadata": {},
   "outputs": [],
   "source": [
    "import pandas as pd"
   ]
  },
  {
   "cell_type": "code",
   "execution_count": null,
   "id": "ae395732",
   "metadata": {},
   "outputs": [],
   "source": []
  }
 ],
 "metadata": {
  "kernelspec": {
   "display_name": "Python 3",
   "language": "python",
   "name": "python3"
  },
  "language_info": {
   "codemirror_mode": {
    "name": "ipython",
    "version": 3
   },
   "file_extension": ".py",
   "mimetype": "text/x-python",
   "name": "python",
   "nbconvert_exporter": "python",
   "pygments_lexer": "ipython3",
   "version": "3.6.8"
  }
 },
 "nbformat": 4,
 "nbformat_minor": 5
}
